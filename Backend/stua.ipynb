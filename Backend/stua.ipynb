{
 "cells": [
  {
   "cell_type": "markdown",
   "metadata": {},
   "source": [
    "# STUA (Stuyvesant Transit and Urbanism)\n",
    "## The STUA Countdown Clock Project Module \n",
    "\n",
    "---\n",
    "\n",
    "If you are viewing this, I am assuming you came here to learn more about our countdown clock project for Stuyvesant High School. Started in the summer of 2019, the STUA has been trying to create some sort of display for the second floor TriBeCa bridge entrance. This display will display subway information and if possible, school club advertisements and other useful information. \n",
    "\n",
    "While the project has not been realized yet, we are hoping you could help us. This notebook contanis what we have gotten to so far. You are free to use the module for your own projects, or edit the core files of the module itself. If you code anything interesting you would like to bring to our attention, you can ping Irvin, Abheek, or I (Ravindra). \n",
    "\n",
    "Below is a little tutorial on how to use the module. Additionally, here are some hyperlinks to any part of this tutorial:\n",
    "\n",
    "- [1. The MTA Google Transit API](#1)\n",
    "- [1.5. A Demonstration](#1.5)\n",
    "- [2. Station Names and Station IDs](#2)\n",
    "- [3. The GTFS class](#3)\n",
    "- [4. A Simple Countdown Clock Using the STUA Module](#4)\n",
    "\n",
    "---\n",
    "\n"
   ]
  },
  {
   "cell_type": "markdown",
   "metadata": {},
   "source": [
    "## <a id =1> </a> 1. The MTA Google Transit API\n",
    "\n",
    "The STUA gets it's data from the MTA Google Transit API, a realtime data formatter from Google that provides information on the locations of trains. Naturally, this means that using it we will be able to determine how far subway trains are from any station in the system. \n",
    "\n",
    "For whatever reason, this doesn't include the Staten Island Railway, so just keep a note of that. \n",
    "\n",
    "In order to access any information from the API, you will need an API key. To get one, follow the instructions on: \n",
    "[MTA Developer Resources](https://new.mta.info/developers)\n",
    "\n",
    "In a new python file, you should have a heading in this general format. Copy the API key from the [MTA Developer Resources](https://new.mta.info/developers) website that you made in the previous step into the empty ```API``` string. \n",
    "\n",
    "```python\n",
    "import stua \n",
    "\n",
    "API = \"<insert_key_here>\"\n",
    "```"
   ]
  },
  {
   "cell_type": "markdown",
   "metadata": {},
   "source": [
    "## <a id =1.5> </a> 1.5. A Demonstration\n",
    "\n",
    "This is a demonstration of the current capabilities of the STUA Python Module"
   ]
  },
  {
   "cell_type": "code",
   "execution_count": 2,
   "metadata": {},
   "outputs": [
    {
     "name": "stdout",
     "output_type": "stream",
     "text": [
      "There is a Pelham Bay Park bound 6 train 27 minutes away from Astor Pl\n"
     ]
    }
   ],
   "source": [
    "import stua \n",
    "\n",
    "#ex: API = \"5hg7rwhYYtU...\"\n",
    "API = \"<insert key here>\"\n",
    "\n",
    "stua.key(API)\n",
    "\n",
    "new_train = stua.gtfs()\n",
    "\n",
    "station = \"Astor Pl\"\n",
    "station = stua.convert(station)\n",
    "\n",
    "new_train.set(station, \"N\", 3)\n",
    "\n",
    "print(f'There is a {new_train.terminus} bound {new_train.route_id} train {new_train.time} minutes away from {new_train.station}')"
   ]
  },
  {
   "cell_type": "markdown",
   "metadata": {},
   "source": [
    "## <a id =2> </a> 2. Station Names and Station IDs\n",
    "\n",
    "The MTA internally orders it's stations are IDs, while we the general public see stations by their names. ```stua.convert(String)``` converts between station IDs and station names. \n",
    "\n",
    "Each station ID corresponds to exactly one station. However, one station name can correspond to multiple station IDs due to multiple stations having the same station name. When this happens, ```stua.convert(String)``` reports a list. Otherwise, the method returns a String. Therefore, it is recommended that converting between station names and station IDs is only for testing purposes.\n",
    "\n",
    "Examples of each case are below:"
   ]
  },
  {
   "cell_type": "code",
   "execution_count": 1,
   "metadata": {},
   "outputs": [
    {
     "name": "stdout",
     "output_type": "stream",
     "text": [
      "G26\n",
      "Northern Blvd\n",
      "['J27', 'L22', 'A51']\n"
     ]
    }
   ],
   "source": [
    "import stua \n",
    "\n",
    "API= \"<insert key here>\"\n",
    "stua.key(API)\n",
    "\n",
    "#intakes station name, returns station id\n",
    "station_name = \"Greenpoint Av\"\n",
    "station_id = stua.convert(station_name)\n",
    "print(station_id)\n",
    "\n",
    "#intakes station id, returns station name\n",
    "station_id = \"G16\"\n",
    "station_name = stua.convert(station_id)\n",
    "print(station_name)\n",
    "\n",
    "#intakes station name, returns multiple station ids\n",
    "station_name = \"Broadway Junction\"\n",
    "station_id = stua.convert(station_name)\n",
    "print(station_id)"
   ]
  },
  {
   "cell_type": "markdown",
   "metadata": {},
   "source": [
    "## <a id =3> </a> 3. The GTFS Class\n",
    "\n",
    "The goal of the STUA GTFS class is to gather GTFS for a specific station in an easy and efficient format. \n",
    "\n",
    "Upon initializing the class, the set method intakes a station ID and a direction, along with the position of the train you are looking for (1st incoming train, 2nd, 3rd, etc.). It returns the following fields: route_id, terminus, terminus_id, station, station_id, time. \n",
    "\n",
    "```object.route_id``` = returns the nearest route service<br>\n",
    "```object.terminus``` = returns the name of the terminus station<br>\n",
    "```object.terminus_id``` = returns the ID of the terminus station<br>\n",
    "```object.station``` = returns the name of the current station<br>\n",
    "```object.station_id``` = returns the ID of the current station<br> \n",
    "```object.time``` = returns how far the nearest route service is<br> "
   ]
  },
  {
   "cell_type": "code",
   "execution_count": 3,
   "metadata": {},
   "outputs": [
    {
     "name": "stdout",
     "output_type": "stream",
     "text": [
      "F\n",
      "Avenue X\n",
      "F38S\n",
      "Kew Gardens-Union Tpke\n",
      "F06S\n",
      "1\n"
     ]
    }
   ],
   "source": [
    "import stua \n",
    "\n",
    "API= \"<insert key here>\"\n",
    "stua.key(API)\n",
    "\n",
    "#intializes gtfs\n",
    "stationNew = stua.gtfs()\n",
    "\n",
    "#defines gtfs\n",
    "stationNew.set(\"F06\", \"S\", 1)\n",
    "\n",
    "print(stationNew.route_id)\n",
    "print(stationNew.terminus)\n",
    "print(stationNew.terminus_id)\n",
    "print(stationNew.station)\n",
    "print(stationNew.station_id)\n",
    "print(stationNew.time)"
   ]
  },
  {
   "cell_type": "markdown",
   "id": "3fc5cb76",
   "metadata": {},
   "source": [
    "## <a id =4> </a> 4. A Simple Countdown Clock Using the STUA Module\n",
    "\n",
    "Below is a some code for making a countdown clock using this module. You may, of course, combine this code with other modules to make applications displaying GTFS data. "
   ]
  },
  {
   "cell_type": "code",
   "execution_count": 5,
   "id": "4df51efc",
   "metadata": {},
   "outputs": [
    {
     "name": "stdout",
     "output_type": "stream",
     "text": [
      "Next Southbound trains at Chambers St Subway Station\n",
      "5 minutes (1 to South Ferry)\n",
      "7 minutes (2 to Flatbush Av-Brooklyn College)\n",
      "11 minutes (2 to Flatbush Av-Brooklyn College)\n",
      "14 minutes (1 to South Ferry)\n",
      "24 minutes (1 to South Ferry)\n"
     ]
    }
   ],
   "source": [
    "import stua \n",
    "\n",
    "API= \"<insert key here>\"\n",
    "stua.key(API)\n",
    "\n",
    "stationName = stua.convert(\"137\")\n",
    "\n",
    "newtrain1 = stua.gtfs()\n",
    "newtrain2 = stua.gtfs()\n",
    "newtrain3 = stua.gtfs()\n",
    "newtrain4 = stua.gtfs()\n",
    "newtrain5 = stua.gtfs()\n",
    "\n",
    "newtrain1.set(\"137\", \"S\", 1)\n",
    "newtrain2.set(\"137\", \"S\", 2)\n",
    "newtrain3.set(\"137\", \"S\", 3)\n",
    "newtrain4.set(\"137\", \"S\", 4)\n",
    "newtrain5.set(\"137\", \"S\", 5)\n",
    "\n",
    "print(f'Next Southbound trains at {stationName} Subway Station')\n",
    "print(f'{newtrain1.time} minutes ({newtrain1.route_id} to {newtrain1.terminus})')\n",
    "print(f'{newtrain2.time} minutes ({newtrain2.route_id} to {newtrain2.terminus})')\n",
    "print(f'{newtrain3.time} minutes ({newtrain3.route_id} to {newtrain3.terminus})')\n",
    "print(f'{newtrain4.time} minutes ({newtrain4.route_id} to {newtrain4.terminus})')\n",
    "print(f'{newtrain5.time} minutes ({newtrain5.route_id} to {newtrain5.terminus})')"
   ]
  }
 ],
 "metadata": {
  "interpreter": {
   "hash": "3e2efa401bbe3662f36660da49d2692915ab8f604536a778f2692a63a5bbf6de"
  },
  "kernelspec": {
   "display_name": "Python 3.9.6 64-bit",
   "name": "python3"
  },
  "language_info": {
   "codemirror_mode": {
    "name": "ipython",
    "version": 3
   },
   "file_extension": ".py",
   "mimetype": "text/x-python",
   "name": "python",
   "nbconvert_exporter": "python",
   "pygments_lexer": "ipython3",
   "version": "3.9.6"
  }
 },
 "nbformat": 4,
 "nbformat_minor": 5
}
