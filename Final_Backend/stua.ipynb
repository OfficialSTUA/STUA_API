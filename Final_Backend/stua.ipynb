{
 "cells": [
  {
   "cell_type": "markdown",
   "metadata": {},
   "source": [
    "# STUA (Stuyvesant Transit and Urbanism)\n",
    "## The STUA Countdown Clock Project Module \n",
    "\n",
    "---\n",
    "\n",
    "If you are viewing this, I am assuming you came here to learn more about our countdown clock project for Stuyvesant High School. Started in the summer of 2019, the STUA has been trying to create some sort of display for the second floor TriBeCa bridge entrance. This display will display subway information and if possible, school club advertisements and other useful information. \n",
    "\n",
    "While the project has not been realized yet, we are hoping you could help us. This notebook contanis what we have gotten to so far. You are free to use the module for your own projects, or edit the core files of the module itself. If you code anything interesting you would like to bring to our attention, you can ping Irvin, Abheek, or I (Ravindra). \n",
    "\n",
    "Below is a little tutorial on how to use the module. Additionally, here are some hyperlinks to any part of this tutorial:\n",
    "\n",
    "- [1. The MTA Google Transit API](#1)\n",
    "- [1.5. A Demonstration](#1.5)\n",
    "- [2. Station Names and Station IDs](#2)\n",
    "- [3. The GTFS class](#3)\n",
    "- [4. A Simple Countdown Clock Using the STUA Module](#4)\n",
    "\n",
    "---\n",
    "\n"
   ]
  },
  {
   "cell_type": "markdown",
   "metadata": {},
   "source": [
    "## <a id =1> </a> 1. The MTA Google Transit API\n",
    "\n",
    "The STUA gets it's data from the MTA Google Transit API, a realtime data formatter from Google that provides information on the locations of trains. Naturally, this means that using it we will be able to determine how far subway trains are from any station in the system. \n",
    "\n",
    "For whatever reason, this doesn't include the Staten Island Railway, so just keep a note of that. \n",
    "\n",
    "In order to access any information from the API, you will need an API key. To get one, follow the instructions on: \n",
    "[MTA Developer Resources](https://new.mta.info/developers)\n",
    "\n",
    "In a new python file, you should have a heading in this general format. Copy the API key from the [MTA Developer Resources](https://new.mta.info/developers) website that you made in the previous step into the empty ```API``` string. \n",
    "\n",
    "```python\n",
    "import stua \n",
    "\n",
    "API = \"<insert_key_here>\"\n",
    "```"
   ]
  },
  {
   "cell_type": "markdown",
   "metadata": {},
   "source": [
    "## <a id =1.5> </a> 1.5. A Demonstration\n",
    "\n",
    "This is a demonstration of the current capabilities of the STUA Python Module"
   ]
  },
  {
   "cell_type": "code",
   "execution_count": 1,
   "metadata": {},
   "outputs": [
    {
     "name": "stdout",
     "output_type": "stream",
     "text": [
      "There is a Far Rockaway-Mott Av bound A train 82 minutes away from Chambers St\n"
     ]
    }
   ],
   "source": [
    "import stua \n",
    "\n",
    "#ex: API = \"5hg7rwhYYtU...\"\n",
    "API = \"p4G33OQzU8acTdI6FbwCQ3C4bXKbmLFla5ZSDvdc\"\n",
    "\n",
    "stua.keySubway(API)\n",
    "\n",
    "new_train = stua.gtfsSubway()\n",
    "\n",
    "new_train.getSubway(\"A36\", \"S\", 0)\n",
    "\n",
    "print(f'There is a {new_train.terminus} bound {new_train.route_id} train {new_train.time} minutes away from {new_train.station}')"
   ]
  },
  {
   "cell_type": "markdown",
   "metadata": {},
   "source": [
    "## <a id =2> </a> 2. Station Names and Station IDs\n",
    "\n",
    "The MTA internally orders it's stations are IDs, while we the general public see stations by their names. ```stua.convert(String)``` converts between station IDs and station names. \n",
    "\n",
    "Each station ID corresponds to exactly one station. However, one station name can correspond to multiple station IDs due to multiple stations having the same station name. When this happens, ```stua.convert(String)``` reports a list. Otherwise, the method returns a String. Therefore, it is recommended that converting between station names and station IDs is only for testing purposes.\n",
    "\n",
    "Examples of each case are below:"
   ]
  },
  {
   "cell_type": "code",
   "execution_count": 1,
   "metadata": {},
   "outputs": [
    {
     "ename": "AttributeError",
     "evalue": "module 'stua' has no attribute 'key'",
     "output_type": "error",
     "traceback": [
      "\u001b[1;31m---------------------------------------------------------------------------\u001b[0m",
      "\u001b[1;31mAttributeError\u001b[0m                            Traceback (most recent call last)",
      "\u001b[1;32m~\\AppData\\Local\\Temp/ipykernel_1132/3394989835.py\u001b[0m in \u001b[0;36m<module>\u001b[1;34m\u001b[0m\n\u001b[0;32m      2\u001b[0m \u001b[1;33m\u001b[0m\u001b[0m\n\u001b[0;32m      3\u001b[0m \u001b[0mAPI\u001b[0m\u001b[1;33m=\u001b[0m \u001b[1;34m\"<insert key here>\"\u001b[0m\u001b[1;33m\u001b[0m\u001b[1;33m\u001b[0m\u001b[0m\n\u001b[1;32m----> 4\u001b[1;33m \u001b[0mstua\u001b[0m\u001b[1;33m.\u001b[0m\u001b[0mkey\u001b[0m\u001b[1;33m(\u001b[0m\u001b[0mAPI\u001b[0m\u001b[1;33m)\u001b[0m\u001b[1;33m\u001b[0m\u001b[1;33m\u001b[0m\u001b[0m\n\u001b[0m\u001b[0;32m      5\u001b[0m \u001b[1;33m\u001b[0m\u001b[0m\n\u001b[0;32m      6\u001b[0m \u001b[1;31m#intakes station name, returns station id\u001b[0m\u001b[1;33m\u001b[0m\u001b[1;33m\u001b[0m\u001b[1;33m\u001b[0m\u001b[0m\n",
      "\u001b[1;31mAttributeError\u001b[0m: module 'stua' has no attribute 'key'"
     ]
    }
   ],
   "source": [
    "import stua \n",
    "\n",
    "API= \"<insert key here>\"\n",
    "stua.key(API)\n",
    "\n",
    "#intakes station name, returns station id\n",
    "station_name = \"Greenpoint Av\"\n",
    "station_id = stua.convert(station_name)\n",
    "print(station_id)\n",
    "\n",
    "#intakes station id, returns station name\n",
    "station_id = \"G16\"\n",
    "station_name = stua.convert(station_id)\n",
    "print(station_name)\n",
    "\n",
    "#intakes station name, returns multiple station ids\n",
    "station_name = \"Broadway Junction\"\n",
    "station_id = stua.convert(station_name)\n",
    "print(station_id)"
   ]
  },
  {
   "cell_type": "markdown",
   "metadata": {},
   "source": [
    "## <a id =3> </a> 3. The GTFS Class\n",
    "\n",
    "The goal of the STUA GTFS class is to gather GTFS for a specific station in an easy and efficient format. \n",
    "\n",
    "Upon initializing the class, the set method intakes a station ID and a direction, along with the position of the train you are looking for (1st incoming train, 2nd, 3rd, etc.). It returns the following fields: route_id, terminus, terminus_id, station, station_id, time. \n",
    "\n",
    "```object.route_id``` = returns the nearest route service<br>\n",
    "```object.terminus``` = returns the name of the terminus station<br>\n",
    "```object.terminus_id``` = returns the ID of the terminus station<br>\n",
    "```object.station``` = returns the name of the current station<br>\n",
    "```object.station_id``` = returns the ID of the current station<br> \n",
    "```object.time``` = returns how far the nearest route service is<br> "
   ]
  },
  {
   "cell_type": "code",
   "execution_count": 3,
   "metadata": {},
   "outputs": [
    {
     "name": "stdout",
     "output_type": "stream",
     "text": [
      "F\n",
      "Avenue X\n",
      "F38S\n",
      "Kew Gardens-Union Tpke\n",
      "F06S\n",
      "1\n"
     ]
    }
   ],
   "source": [
    "import stua \n",
    "\n",
    "API= \"<insert key here>\"\n",
    "stua.key(API)\n",
    "\n",
    "#intializes gtfs\n",
    "stationNew = stua.gtfs()\n",
    "\n",
    "#defines gtfs\n",
    "stationNew.set(\"F06\", \"S\", 1)\n",
    "\n",
    "print(stationNew.route_id)\n",
    "print(stationNew.terminus)\n",
    "print(stationNew.terminus_id)\n",
    "print(stationNew.station)\n",
    "print(stationNew.station_id)\n",
    "print(stationNew.time)"
   ]
  },
  {
   "cell_type": "markdown",
   "id": "3fc5cb76",
   "metadata": {},
   "source": [
    "## <a id =4> </a> 4. A Simple Countdown Clock Using the STUA Module\n",
    "\n",
    "Below is a some code for making a countdown clock using this module. You may, of course, combine this code with other modules to make applications displaying GTFS data. "
   ]
  },
  {
   "cell_type": "code",
   "execution_count": 5,
   "id": "4df51efc",
   "metadata": {},
   "outputs": [
    {
     "name": "stdout",
     "output_type": "stream",
     "text": [
      "Next Southbound trains at Chambers St Subway Station\n",
      "5 minutes (1 to South Ferry)\n",
      "7 minutes (2 to Flatbush Av-Brooklyn College)\n",
      "11 minutes (2 to Flatbush Av-Brooklyn College)\n",
      "14 minutes (1 to South Ferry)\n",
      "24 minutes (1 to South Ferry)\n"
     ]
    }
   ],
   "source": [
    "import stua\n",
    "stua.key(\"<insert key here\")\n",
    "\n",
    "newtrains = []\n",
    "for x in range(5):\n",
    "    newtrains.append(stua.gtfs())\n",
    "    newtrains[x].set(\"137\", \"S\", x+1)\n",
    "\n",
    "stationName = stua.convert(\"137\")\n",
    "print(f'Next Southbound trains at {stationName} Subway Station')\n",
    "\n",
    "for train in newtrains:\n",
    "    print(f'{train.time} minutes ({train.route_id} to {train.terminus})')"
   ]
  }
 ],
 "metadata": {
  "interpreter": {
   "hash": "3e2efa401bbe3662f36660da49d2692915ab8f604536a778f2692a63a5bbf6de"
  },
  "kernelspec": {
   "display_name": "Python 3.9.6 64-bit",
   "name": "python3"
  },
  "language_info": {
   "codemirror_mode": {
    "name": "ipython",
    "version": 3
   },
   "file_extension": ".py",
   "mimetype": "text/x-python",
   "name": "python",
   "nbconvert_exporter": "python",
   "pygments_lexer": "ipython3",
   "version": "3.9.6"
  }
 },
 "nbformat": 4,
 "nbformat_minor": 5
}
