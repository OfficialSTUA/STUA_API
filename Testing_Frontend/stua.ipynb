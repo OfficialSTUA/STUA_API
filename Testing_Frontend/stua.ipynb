{
 "cells": [
  {
   "cell_type": "markdown",
   "metadata": {},
   "source": [
    "# STUA (Stuyvesant Transit and Urbanism)\n",
    "## The STUA Countdown Clock Project Module \n",
    "\n",
    "---\n",
    "\n",
    "If you are viewing this, I am assuming you came here to learn more about our countdown clock project for Stuyvesant High School. Started in the summer of 2019, the STUA has been trying to create some sort of display for the second floor TriBeCa bridge entrance. This display will display subway information and if possible, school club advertisements and other useful information. \n",
    "\n",
    "While the project has not been realized yet, we are hoping you could help us. This notebook contanis what we have gotten to so far. You are free to use the module for your own projects, or edit the core files of the module itself. If you code anything interesting you would like to bring to our attention, you can ping Irvin, Abheek, or I (Ravindra). \n",
    "\n",
    "Below is a little tutorial on how to use the module. Additionally, here are some hyperlinks to any part of this tutorial:\n",
    "\n",
    "- [1. The MTA Google Transit API](#1)\n",
    "- [1.5. A Demonstration](#1.5)\n",
    "- [2. Station Names and Station IDs](#2)\n",
    "- [3. The GTFS class (NYCT)](#3)\n",
    "- [4. The GTFS class (Bustime)](#4)\n",
    "- [5. A Simple Countdown Clock Using the STUA Module](#5)\n",
    "- [6. setSubway() and setBus()](#6)\n",
    "\n",
    "---\n",
    "\n"
   ]
  },
  {
   "cell_type": "markdown",
   "metadata": {},
   "source": [
    "## <a id =1> </a> 1. The MTA Google Transit API\n",
    "\n",
    "The STUA gets it's data from the MTA Google Transit API, a realtime data formatter from Google that provides information on the locations of trains. Naturally, this means that using it we will be able to determine how far subway trains are from any station in the system. \n",
    "\n",
    "For whatever reason, this doesn't include the Staten Island Railway, so just keep a note of that. \n",
    "\n",
    "In order to access any information from the API, you will need an API key. To get one, follow the instructions on: \n",
    "[MTA Developer Resources](https://new.mta.info/developers)\n",
    "\n",
    "In a new python file, you should have a heading in this general format. Copy the API key from the [MTA Developer Resources](https://new.mta.info/developers) website that you made in the previous step into the empty ```API``` string. \n",
    "\n",
    "```python\n",
    "import stua \n",
    "\n",
    "API = \"<insert_key_here>\"\n",
    "```"
   ]
  },
  {
   "cell_type": "markdown",
   "metadata": {},
   "source": [
    "## <a id =1.5> </a> 1.5. A Demonstration\n",
    "\n",
    "This is a demonstration of the current capabilities of the STUA Python Module"
   ]
  },
  {
   "cell_type": "code",
   "execution_count": 2,
   "metadata": {},
   "outputs": [
    {
     "name": "stdout",
     "output_type": "stream",
     "text": [
      "There is a Far Rockaway-Mott Av bound A train 5 minutes away from Chambers St\n"
     ]
    }
   ],
   "source": [
    "import stua \n",
    "\n",
    "#ex: API = \"5hg7rwhYYtU...\"\n",
    "API = \"\"\n",
    "\n",
    "stua.keySubway(API)\n",
    "\n",
    "new_train = stua.gtfsSubway()\n",
    "\n",
    "new_train.getSubway(\"A36\", \"S\", 1)\n",
    "\n",
    "print(f'There is a {new_train.terminus} bound {new_train.route_id} train {new_train.time} minutes away from {new_train.station}')"
   ]
  },
  {
   "cell_type": "markdown",
   "metadata": {},
   "source": [
    "## <a id =2> </a> 2. Station Names and Station IDs\n",
    "\n",
    "The MTA internally orders it's stops are IDs, while we the general public see stations by their names. ```stua.convertSubway(String)``` and ```stua.convertBus(String)``` converts a stop ID a it's respective stop name. "
   ]
  },
  {
   "cell_type": "code",
   "execution_count": 5,
   "metadata": {},
   "outputs": [
    {
     "name": "stdout",
     "output_type": "stream",
     "text": [
      "Chambers St\n",
      "154 ST/11 AV\n"
     ]
    }
   ],
   "source": [
    "import stua \n",
    "\n",
    "APISubway = \"<insert key here>\"\n",
    "stua.keySubway(APISubway)\n",
    "\n",
    "APIBus = \"<insert key here>\"\n",
    "stua.keyBus(APIBus)\n",
    "\n",
    "station_id = \"A36\"\n",
    "print(stua.convertSubway(station_id))\n",
    "\n",
    "stop_id = \"505130\"\n",
    "print(stua.convertBus(stop_id))"
   ]
  },
  {
   "cell_type": "markdown",
   "metadata": {},
   "source": [
    "## <a id =3> </a> 3. The GTFS Class (NYCT)\n",
    "\n",
    "The goal of the STUA GTFS class is to gather GTFS for a specific station in an easy and efficient format. \n",
    "\n",
    "Upon initializing the class, the set method intakes a station ID and a direction, along with the position of the train you are looking for (1st incoming train, 2nd, 3rd, etc.). It returns the following fields: route_id, terminus, terminus_id, station, station_id, direction, service_pattern, service_description, trip_id, time. \n",
    "\n",
    "```object.route_id``` = returns the nearest route service<br>\n",
    "```object.terminus``` = returns the name of the terminus station<br>\n",
    "```object.terminus_id``` = returns the ID of the terminus station<br>\n",
    "```object.station``` = returns the name of the current station<br>\n",
    "```object.station_id``` = returns the ID of the current station<br> \n",
    "```object.direction``` = returns the direction being analyzed at the given station<br>\n",
    "```object.service_pattern``` = returns which lines the given route runs on during normal service<br>\n",
    "```object.service_description``` = returns when the given route runs during normal service<br>\n",
    "```object.trip_id``` = returns the trip ID of the nearest incoming train<br>\n",
    "```object.time``` = returns how far the nearest route service is<br> "
   ]
  },
  {
   "cell_type": "code",
   "execution_count": 3,
   "metadata": {},
   "outputs": [
    {
     "name": "stdout",
     "output_type": "stream",
     "text": [
      "F\n",
      "Avenue X\n",
      "F38S\n",
      "Kew Gardens-Union Tpke\n",
      "F06S\n",
      "1\n"
     ]
    }
   ],
   "source": [
    "import stua \n",
    "\n",
    "API= \"<insert key here>\"\n",
    "stua.keySubway(API)\n",
    "\n",
    "#intializes gtfs\n",
    "stationNew = stua.gtfsSubway()\n",
    "\n",
    "#defines gtfs\n",
    "stationNew.set(\"F06\", \"S\", 1)\n",
    "\n",
    "print(stationNew.route_id)\n",
    "print(stationNew.terminus)\n",
    "print(stationNew.terminus_id)\n",
    "print(stationNew.station)\n",
    "print(stationNew.station_id)\n",
    "print(stationNew.time)"
   ]
  },
  {
   "cell_type": "markdown",
   "id": "f4908666",
   "metadata": {},
   "source": [
    "## <a id =4> </a> 4. The GTFS Class (Bustime)\n",
    "\n",
    "Upon initializing the class, the set method intakes a stop ID and a direction, along with the position of the bus you are looking for (1st incoming bus, 2nd, 3rd, etc.). It returns the following fields: route_id, terminus, terminus_id, stop, stop_id, time, service_pattern, direction, trip_id. \n",
    "\n",
    "```object.route_id``` = returns the nearest route service<br>\n",
    "```object.terminus``` = returns the name of the terminus stop<br>\n",
    "```object.terminus_id``` = returns the ID of the terminus stop<br>\n",
    "```object.stop``` = returns the name of the current stop<br>\n",
    "```object.stop_id``` = returns the ID of the current stop<br> \n",
    "```object.direction``` = returns the direction being analyzed at the given stop<br>\n",
    "```object.service_pattern``` = returns which lines the given route runs on during normal service<br>\n",
    "```object.trip_id``` = returns the trip ID of the nearest incoming bus<br>\n",
    "```object.time``` = returns how far the nearest route service is<br> "
   ]
  },
  {
   "cell_type": "code",
   "execution_count": null,
   "id": "27966efe",
   "metadata": {},
   "outputs": [],
   "source": [
    "import stua \n",
    "\n",
    "API= \"<insert key here>\"\n",
    "stua.keyBus(API)\n",
    "\n",
    "#intializes gtfs\n",
    "stopNew = stua.gtfsBus()\n",
    "\n",
    "#defines gtfs\n",
    "#direction is indicated by 0 or 1 (Integer)\n",
    "stopNew.set(\"501098\", 0, 1)\n",
    "\n",
    "print(stopNew.route_id)\n",
    "print(stopNew.terminus)\n",
    "print(stopNew.terminus_id)\n",
    "print(stopNew.stop)\n",
    "print(stopNew.stop)\n",
    "print(stopNew.time)"
   ]
  },
  {
   "cell_type": "markdown",
   "id": "3fc5cb76",
   "metadata": {},
   "source": [
    "## <a id =5> </a> 5. A Simple Countdown Clock Using the STUA Module\n",
    "\n",
    "Below is a some code for making a countdown clock using this module. You may, of course, combine this code with other modules to make applications displaying GTFS data. "
   ]
  },
  {
   "cell_type": "code",
   "execution_count": 5,
   "id": "4df51efc",
   "metadata": {},
   "outputs": [
    {
     "name": "stdout",
     "output_type": "stream",
     "text": [
      "Next Southbound trains at Chambers St Subway Station\n",
      "5 minutes (1 to South Ferry)\n",
      "7 minutes (2 to Flatbush Av-Brooklyn College)\n",
      "11 minutes (2 to Flatbush Av-Brooklyn College)\n",
      "14 minutes (1 to South Ferry)\n",
      "24 minutes (1 to South Ferry)\n"
     ]
    }
   ],
   "source": [
    "import stua\n",
    "stua.keySubway(\"<insert key here\")\n",
    "\n",
    "newtrains = []\n",
    "for x in range(5):\n",
    "    newtrains.append(stua.gtfs())\n",
    "    newtrains[x].set(\"137\", \"S\", x+1)\n",
    "\n",
    "stationName = stua.convert(\"137\")\n",
    "print(f'Next Southbound trains at {stationName} Subway Station')\n",
    "\n",
    "for train in newtrains:\n",
    "    print(f'{train.time} minutes ({train.route_id} to {train.terminus})')"
   ]
  },
  {
   "cell_type": "markdown",
   "id": "4489b1e0",
   "metadata": {},
   "source": [
    "## <a id =6> </a> 6. setSubway() and setBus()\n",
    "\n",
    "STUA supports creating your own fictional data sets:<br>\n",
    "```object.setSubway(route_id, terminus_id, station_id, direction, time, pattern, description, trip_id)```<br>\n",
    "```object.setBus(route_id, terminus_id, stop_id, time, service_pattern, direction, trip_id)```<br>"
   ]
  },
  {
   "cell_type": "code",
   "execution_count": null,
   "id": "8388d2fe",
   "metadata": {},
   "outputs": [],
   "source": [
    "import stua\n",
    "stua.keySubway(\"<insert key here\")\n",
    "stua.keyBus(\"<insert key here\")\n",
    "\n",
    "objectSubway = stua.gtfsSubway()\n",
    "objectBus = stua.gtfsBus()\n",
    "\n",
    "print(objectSubway.setSubway(\"A\", \"A36\", \"F02\", \"N\", 5, \"test\", \"test\"))\n",
    "print(objectBus.setBus(\"M10\", \"404135\", \"401307\", 6, \"test\", 0, \"test\"))"
   ]
  }
 ],
 "metadata": {
  "interpreter": {
   "hash": "3e2efa401bbe3662f36660da49d2692915ab8f604536a778f2692a63a5bbf6de"
  },
  "kernelspec": {
   "display_name": "Python 3.9.6 64-bit",
   "name": "python3"
  },
  "language_info": {
   "codemirror_mode": {
    "name": "ipython",
    "version": 3
   },
   "file_extension": ".py",
   "mimetype": "text/x-python",
   "name": "python",
   "nbconvert_exporter": "python",
   "pygments_lexer": "ipython3",
   "version": "3.9.6"
  }
 },
 "nbformat": 4,
 "nbformat_minor": 5
}
